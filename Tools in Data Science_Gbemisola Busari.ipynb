{
 "cells": [
  {
   "cell_type": "markdown",
   "metadata": {},
   "source": [
    "# My Jupiter Notebook on IBM Watson Studio"
   ]
  },
  {
   "cell_type": "markdown",
   "metadata": {},
   "source": [
    "**Gbemisola Busari**\n",
    "\n",
    "Data Science"
   ]
  },
  {
   "cell_type": "markdown",
   "metadata": {},
   "source": [
    "*I am interested in Data Science because I love to help generate meaningful insights from data in a bid to contribute to business growth*"
   ]
  },
  {
   "cell_type": "markdown",
   "metadata": {},
   "source": [
    "### The code below tests if a number is zero, even or odd number"
   ]
  },
  {
   "cell_type": "code",
   "execution_count": 15,
   "metadata": {},
   "outputs": [
    {
     "name": "stdout",
     "output_type": "stream",
     "text": [
      "enter a number: 197\n",
      "This is an odd number\n"
     ]
    }
   ],
   "source": [
    "number = int(input(\"enter a number: \")) \n",
    "\n",
    "if number == 0:\n",
    "    print(\"This number is Zero\")\n",
    "elif number%2 == 0:\n",
    "    print(\"This is an even number\")\n",
    "else:\n",
    "    print(\"This is an odd number\")\n"
   ]
  },
  {
   "cell_type": "markdown",
   "metadata": {},
   "source": [
    "- Data Science Tools \n",
    "- [x] Python\n",
    "- [x] SQL\n",
    "- [ ] R\n",
    "- [ ] Tableau\n",
    "- [ ] Power BI\n",
    "\n",
    "- ~~ Hello World ~~\n",
    "\n",
    "---\n",
    "Gbemisola is a Data Scientist.\n",
    "***\n",
    "Gbemisola is a Data Scientist.\n",
    "___\n",
    "\n",
    ">This is a very long line that will still be quoted properly when it wraps. Oh boy let's keep writing to make sure this is long enough to actually wrap for everyone. Oh, you can *put* **Markdown** into a blockquote. \n",
    "\n",
    "[Ritzy scents](www.ritzyscents.com)\n",
    "\n",
    "<http:\\\\www.ritzyscents.com>\n",
    "\n",
    "Name | City | State |\n",
    "---  |:--- :| --- :|\n",
    "Taiwo | `Ibadan`| Oyo |\n",
    "Gbemisola | Ikire | Osun |\n",
    "Ibidapo | Abeokuta | Ogun |\n",
    "\n",
    "<center>\n",
    "    <img src=\"https://cf-courses-data.s3.us.cloud-object-storage.appdomain.cloud/IBMDeveloperSkillsNetwork-DS0105EN-SkillsNetwork/labs/Module2/images/SN_web_lightmode.png\" width=\"300\" alt=\"cognitiveclass.ai logo\"  />\n",
    "</center>"
   ]
  }
 ],
 "metadata": {
  "kernelspec": {
   "display_name": "Python 3 (ipykernel)",
   "language": "python",
   "name": "python3"
  },
  "language_info": {
   "codemirror_mode": {
    "name": "ipython",
    "version": 3
   },
   "file_extension": ".py",
   "mimetype": "text/x-python",
   "name": "python",
   "nbconvert_exporter": "python",
   "pygments_lexer": "ipython3",
   "version": "3.9.12"
  }
 },
 "nbformat": 4,
 "nbformat_minor": 4
}
